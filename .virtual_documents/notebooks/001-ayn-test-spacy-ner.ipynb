from eis.config import DATA_DIR
from woolworm import Woolworm
import pytesseract
from PIL import Image


print(pytesseract.image_to_string(Image.open()))


get_ipython().getoutput("ls ../data/")



